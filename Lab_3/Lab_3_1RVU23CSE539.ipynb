{
  "cells": [
    {
      "cell_type": "markdown",
      "metadata": {
        "id": "OdZj2uGT6h3N"
      },
      "source": [
        "Vinay Saunshi | 1RVU23CSE539 | IOT LAB 3"
      ]
    },
    {
      "cell_type": "code",
      "execution_count": null,
      "metadata": {
        "colab": {
          "base_uri": "https://localhost:8080/"
        },
        "id": "hpfIQE_3nYrS",
        "outputId": "5794d147-2ced-42f8-b033-9e0404102feb"
      },
      "outputs": [
        {
          "output_type": "stream",
          "name": "stdout",
          "text": [
            "environ({'SHELL': '/bin/bash', 'NV_LIBCUBLAS_VERSION': '12.5.3.2-1', 'NVIDIA_VISIBLE_DEVICES': 'all', 'COLAB_JUPYTER_TRANSPORT': 'ipc', 'NV_NVML_DEV_VERSION': '12.5.82-1', 'NV_CUDNN_PACKAGE_NAME': 'libcudnn9-cuda-12', 'CGROUP_MEMORY_EVENTS': '/sys/fs/cgroup/memory.events /var/colab/cgroup/jupyter-children/memory.events', 'NV_LIBNCCL_DEV_PACKAGE': 'libnccl-dev=2.22.3-1+cuda12.5', 'NV_LIBNCCL_DEV_PACKAGE_VERSION': '2.22.3-1', 'VM_GCE_METADATA_HOST': '169.254.169.253', 'MODEL_PROXY_HOST': 'https://mp.kaggle.net', 'HOSTNAME': '1a97c0dd61d8', 'LANGUAGE': 'en_US', 'TBE_RUNTIME_ADDR': '172.28.0.1:8011', 'COLAB_TPU_1VM': '', 'GCE_METADATA_TIMEOUT': '3', 'NVIDIA_REQUIRE_CUDA': 'cuda>=12.5 brand=unknown,driver>=470,driver<471 brand=grid,driver>=470,driver<471 brand=tesla,driver>=470,driver<471 brand=nvidia,driver>=470,driver<471 brand=quadro,driver>=470,driver<471 brand=quadrortx,driver>=470,driver<471 brand=nvidiartx,driver>=470,driver<471 brand=vapps,driver>=470,driver<471 brand=vpc,driver>=470,driver<471 brand=vcs,driver>=470,driver<471 brand=vws,driver>=470,driver<471 brand=cloudgaming,driver>=470,driver<471 brand=unknown,driver>=535,driver<536 brand=grid,driver>=535,driver<536 brand=tesla,driver>=535,driver<536 brand=nvidia,driver>=535,driver<536 brand=quadro,driver>=535,driver<536 brand=quadrortx,driver>=535,driver<536 brand=nvidiartx,driver>=535,driver<536 brand=vapps,driver>=535,driver<536 brand=vpc,driver>=535,driver<536 brand=vcs,driver>=535,driver<536 brand=vws,driver>=535,driver<536 brand=cloudgaming,driver>=535,driver<536 brand=unknown,driver>=550,driver<551 brand=grid,driver>=550,driver<551 brand=tesla,driver>=550,driver<551 brand=nvidia,driver>=550,driver<551 brand=quadro,driver>=550,driver<551 brand=quadrortx,driver>=550,driver<551 brand=nvidiartx,driver>=550,driver<551 brand=vapps,driver>=550,driver<551 brand=vpc,driver>=550,driver<551 brand=vcs,driver>=550,driver<551 brand=vws,driver>=550,driver<551 brand=cloudgaming,driver>=550,driver<551', 'NV_LIBCUBLAS_DEV_PACKAGE': 'libcublas-dev-12-5=12.5.3.2-1', 'NV_NVTX_VERSION': '12.5.82-1', 'COLAB_JUPYTER_IP': '172.28.0.12', 'NV_CUDA_CUDART_DEV_VERSION': '12.5.82-1', 'NV_LIBCUSPARSE_VERSION': '12.5.1.3-1', 'COLAB_LANGUAGE_SERVER_PROXY_ROOT_URL': 'http://172.28.0.1:8013/', 'NV_LIBNPP_VERSION': '12.3.0.159-1', 'NCCL_VERSION': '2.22.3-1', 'KMP_LISTEN_PORT': '6000', 'TF_FORCE_GPU_ALLOW_GROWTH': 'true', 'ENV': '/root/.bashrc', 'PWD': '/', 'COLAB_LANGUAGE_SERVER_PROXY_REQUEST_TIMEOUT': '30s', 'TBE_EPHEM_CREDS_ADDR': '172.28.0.1:8009', 'TBE_CREDS_ADDR': '172.28.0.1:8008', 'NV_CUDNN_PACKAGE': 'libcudnn9-cuda-12=9.2.1.18-1', 'NVIDIA_DRIVER_CAPABILITIES': 'compute,utility', 'COLAB_JUPYTER_TOKEN': '', 'LAST_FORCED_REBUILD': '20250623', 'NV_NVPROF_DEV_PACKAGE': 'cuda-nvprof-12-5=12.5.82-1', 'NV_LIBNPP_PACKAGE': 'libnpp-12-5=12.3.0.159-1', 'NV_LIBNCCL_DEV_PACKAGE_NAME': 'libnccl-dev', 'TCLLIBPATH': '/usr/share/tcltk/tcllib1.20', 'NV_LIBCUBLAS_DEV_VERSION': '12.5.3.2-1', 'NVIDIA_PRODUCT_NAME': 'CUDA', 'COLAB_KERNEL_MANAGER_PROXY_HOST': '172.28.0.12', 'UV_BUILD_CONSTRAINT': '', 'NV_LIBCUBLAS_DEV_PACKAGE_NAME': 'libcublas-dev-12-5', 'NV_CUDA_CUDART_VERSION': '12.5.82-1', 'COLAB_WARMUP_DEFAULTS': '1', 'HOME': '/root', 'LANG': 'en_US.UTF-8', 'CUDA_VERSION': '12.5.1', 'CLOUDSDK_CONFIG': '/content/.config', 'NV_LIBCUBLAS_PACKAGE': 'libcublas-12-5=12.5.3.2-1', 'NV_CUDA_NSIGHT_COMPUTE_DEV_PACKAGE': 'cuda-nsight-compute-12-5=12.5.1-1', 'UV_SYSTEM_PYTHON': 'true', 'COLAB_RELEASE_TAG': 'release-colab_20250905-060054_RC00', 'KMP_TARGET_PORT': '9000', 'KMP_EXTRA_ARGS': '--logtostderr --listen_host=172.28.0.12 --target_host=172.28.0.12 --tunnel_background_save_url=https://colab.research.google.com/tun/m/cc48301118ce562b961b3c22d803539adc1e0c19/m-s-3ornbvmuihjnq --tunnel_background_save_delay=10s --tunnel_periodic_background_save_frequency=30m0s --enable_output_coalescing=true --output_coalescing_required=true ', 'UV_INSTALL_DIR': '/usr/local/bin', 'NV_LIBNPP_DEV_PACKAGE': 'libnpp-dev-12-5=12.3.0.159-1', 'COLAB_LANGUAGE_SERVER_PROXY_LSP_DIRS': '/datalab/web/pyright/typeshed-fallback/stdlib,/usr/local/lib/python3.10/dist-packages', 'NV_LIBCUBLAS_PACKAGE_NAME': 'libcublas-12-5', 'COLAB_KERNEL_MANAGER_PROXY_PORT': '6000', 'CLOUDSDK_PYTHON': 'python3', 'NV_LIBNPP_DEV_VERSION': '12.3.0.159-1', 'NO_GCE_CHECK': 'False', 'PYTHONPATH': '/env/python', 'NV_LIBCUSPARSE_DEV_VERSION': '12.5.1.3-1', 'LIBRARY_PATH': '/usr/local/cuda/lib64/stubs', 'NV_CUDNN_VERSION': '9.2.1.18-1', 'SHLVL': '0', 'NV_CUDA_LIB_VERSION': '12.5.1-1', 'COLAB_LANGUAGE_SERVER_PROXY': '/usr/colab/bin/language_service', 'NVARCH': 'x86_64', 'UV_CONSTRAINT': '', 'PYTHONUTF8': '1', 'NV_CUDNN_PACKAGE_DEV': 'libcudnn9-dev-cuda-12=9.2.1.18-1', 'NV_LIBNCCL_PACKAGE': 'libnccl2=2.22.3-1+cuda12.5', 'LD_LIBRARY_PATH': '/usr/local/nvidia/lib:/usr/local/nvidia/lib64', 'COLAB_GPU': '', 'NV_CUDA_NSIGHT_COMPUTE_VERSION': '12.5.1-1', 'GCS_READ_CACHE_BLOCK_SIZE_MB': '16', 'NV_NVPROF_VERSION': '12.5.82-1', 'LC_ALL': 'en_US.UTF-8', 'COLAB_FILE_HANDLER_ADDR': 'localhost:3453', 'PATH': '/opt/bin:/usr/local/nvidia/bin:/usr/local/cuda/bin:/usr/local/sbin:/usr/local/bin:/usr/sbin:/usr/bin:/sbin:/bin:/tools/node/bin:/tools/google-cloud-sdk/bin', 'NV_LIBNCCL_PACKAGE_NAME': 'libnccl2', 'COLAB_DEBUG_ADAPTER_MUX_PATH': '/usr/local/bin/dap_multiplexer', 'NV_LIBNCCL_PACKAGE_VERSION': '2.22.3-1', 'PYTHONWARNINGS': 'ignore:::pip._internal.cli.base_command', 'DEBIAN_FRONTEND': 'noninteractive', 'COLAB_BACKEND_VERSION': 'next', 'OLDPWD': '/', '_PYVIZ_COMMS_INSTALLED': '1', 'PYDEVD_USE_FRAME_EVAL': 'NO', 'JPY_SESSION_NAME': '1-QvgLDhnuxLkXCr_KxTKqARRye4KEgZF', 'JPY_PARENT_PID': '82', 'TERM': 'xterm-color', 'CLICOLOR': '1', 'PAGER': 'cat', 'GIT_PAGER': 'cat', 'MPLBACKEND': 'module://matplotlib_inline.backend_inline', 'ENABLE_DIRECTORYPREFETCHER': '1', 'USE_AUTH_EPHEM': '1', 'COLAB_NOTEBOOK_ID': '1-QvgLDhnuxLkXCr_KxTKqARRye4KEgZF'})\n"
          ]
        }
      ],
      "source": [
        "import os\n",
        "print(os.environ)\n",
        "path = os.environ.get('PATH')"
      ]
    },
    {
      "cell_type": "code",
      "execution_count": null,
      "metadata": {
        "colab": {
          "base_uri": "https://localhost:8080/"
        },
        "id": "-0J1A51dnn-7",
        "outputId": "4c5c9544-6e15-4112-88fc-3dac51732a78"
      },
      "outputs": [
        {
          "output_type": "stream",
          "name": "stdout",
          "text": [
            "Vinay\n"
          ]
        }
      ],
      "source": [
        "os.environ['USERNAME']=\"Vinay\"\n",
        "print(os.environ.get('USERNAME'))"
      ]
    },
    {
      "cell_type": "code",
      "execution_count": null,
      "metadata": {
        "colab": {
          "base_uri": "https://localhost:8080/"
        },
        "id": "E80Ff6oaoA9T",
        "outputId": "6cfb03c2-1040-4d1a-9947-a89b8739140d"
      },
      "outputs": [
        {
          "output_type": "stream",
          "name": "stdout",
          "text": [
            "env: MY_VAR='Hello from Vinay'\n"
          ]
        }
      ],
      "source": [
        "%env\n",
        "%env USERNAME\n",
        "%env MY_VAR= 'Hello from Vinay'"
      ]
    },
    {
      "cell_type": "code",
      "execution_count": null,
      "metadata": {
        "colab": {
          "base_uri": "https://localhost:8080/",
          "height": 53
        },
        "id": "JyTjf3upoMya",
        "outputId": "5e1a7416-923d-4c5f-d532-aaf0f2c886d4"
      },
      "outputs": [
        {
          "output_type": "stream",
          "name": "stdout",
          "text": [
            "'Hello from Vinay'\n"
          ]
        },
        {
          "output_type": "execute_result",
          "data": {
            "text/plain": [
              "'Vinay'"
            ],
            "application/vnd.google.colaboratory.intrinsic+json": {
              "type": "string"
            }
          },
          "metadata": {},
          "execution_count": 4
        }
      ],
      "source": [
        "print(os.environ.get('MY_VAR'))\n",
        "%env USERNAME"
      ]
    },
    {
      "cell_type": "markdown",
      "metadata": {
        "id": "cllTqafT8ANW"
      },
      "source": [
        "Exercise 1\n"
      ]
    },
    {
      "cell_type": "code",
      "execution_count": null,
      "metadata": {
        "colab": {
          "base_uri": "https://localhost:8080/"
        },
        "id": "cPYWC64vqB_L",
        "outputId": "5b768288-5d13-4a21-effa-703086629c75"
      },
      "outputs": [
        {
          "output_type": "stream",
          "name": "stdout",
          "text": [
            "foo is called with num =  12\n",
            "foo is called with num =  15\n",
            "foo is called with num =  17\n"
          ]
        }
      ],
      "source": [
        "def foo(num):\n",
        "    print('foo is called with num = ',num)\n",
        "\n",
        "def callFnFromList(myList):\n",
        "  for i in range(len(myList)):\n",
        "    if myList[i] is foo:\n",
        "      foo(myList[i-1])\n",
        "\n",
        "myList = [10,11,12,foo,14,15,foo,17,foo]\n",
        "callFnFromList(myList)"
      ]
    },
    {
      "cell_type": "markdown",
      "metadata": {
        "id": "urGGcMdTuRuK"
      },
      "source": [
        "Exercise 1 w Error Check\n"
      ]
    },
    {
      "cell_type": "code",
      "execution_count": 6,
      "metadata": {
        "colab": {
          "base_uri": "https://localhost:8080/"
        },
        "id": "f2_3SaX6sjY7",
        "outputId": "b528fd1a-7692-45fc-b339-c1d346efa354"
      },
      "outputs": [
        {
          "output_type": "stream",
          "name": "stdout",
          "text": [
            "foo is called with num =  12\n",
            "foo is called with num =  15\n",
            "foo is called with num =  17\n",
            "foo is called with num =  15\n",
            "foo is called with num =  17\n",
            "foo is called with num =  15\n",
            "foo1() is called with num =  17\n"
          ]
        }
      ],
      "source": [
        "def foo1(num):\n",
        "  print('foo1() is called with num = ',num)\n",
        "\n",
        "def callFnFromListWithErrChk(myList):\n",
        "  if myList[0] is foo:\n",
        "    for i in range(len(myList)):\n",
        "      if myList[i] is foo:\n",
        "        if type(myList[i-1]) is int:\n",
        "          foo(myList[i-1])\n",
        "      if myList[i] is foo1:\n",
        "          if type(myList[i-1]) is int:\n",
        "              foo1(myList[i-1])\n",
        "\n",
        "myList=[foo,10,1,12,foo,14,15,foo,17,foo]\n",
        "callFnFromListWithErrChk(myList)\n",
        "myList = [foo, 10, 11, 'string', foo, 14, 15, foo, 17, foo]\n",
        "callFnFromListWithErrChk(myList)\n",
        "myList = [foo, 10, 11, 'string', foo, 14, 15, foo, 17, foo1]\n",
        "callFnFromListWithErrChk(myList)"
      ]
    },
    {
      "cell_type": "markdown",
      "metadata": {
        "id": "hEZLbYJEydyj"
      },
      "source": [
        "Exercise 2\n"
      ]
    },
    {
      "cell_type": "code",
      "execution_count": 7,
      "metadata": {
        "colab": {
          "base_uri": "https://localhost:8080/"
        },
        "id": "_aSBiNanzeii",
        "outputId": "5d900b02-7e5a-4e82-c15c-8893707791aa"
      },
      "outputs": [
        {
          "output_type": "stream",
          "name": "stdout",
          "text": [
            "[[[1, 2], [3, 4]], [[5, 6]], [[7, 8], [9, 10], [11, 12]], []]\n",
            "[[[1, 2], [3, 4]], [[5, 6]], [[7, 8], [9, 10], [11, 12]], [[13, 14]], [[15, 16], [17, 18], [19, 20]], []]\n"
          ]
        }
      ],
      "source": [
        "def fillMyMatrixInt(myMatrix):\n",
        "    counter = 1\n",
        "\n",
        "    for i in range(len(myMatrix)):\n",
        "        row = myMatrix[i]\n",
        "\n",
        "        if isinstance(row, list) and all(isinstance(x, list) for x in row):\n",
        "\n",
        "            for j in range(len(row)):\n",
        "                row[j] = [counter, counter + 1]\n",
        "                counter += 2\n",
        "        elif isinstance(row, list):\n",
        "\n",
        "            myMatrix[i] = [counter, counter + 1]\n",
        "            counter += 2\n",
        "\n",
        "    return myMatrix\n",
        "\n",
        "myMatrix1 = [[[], []],\n",
        "             [[]],\n",
        "             [[], [], []],\n",
        "             []]\n",
        "print(fillMyMatrixInt(myMatrix1))\n",
        "\n",
        "myMatrix2 = [[[], []],\n",
        "             [[]],\n",
        "             [[], [], []],\n",
        "             [[]],\n",
        "             [[], [], []],\n",
        "             []]\n",
        "\n",
        "print(fillMyMatrixInt(myMatrix2))"
      ]
    },
    {
      "cell_type": "markdown",
      "metadata": {
        "id": "lZHM6Zzx1NfS"
      },
      "source": [
        "Exercise 3: Problem 1, Filling in Lists - recursive\n"
      ]
    },
    {
      "cell_type": "code",
      "execution_count": 8,
      "metadata": {
        "colab": {
          "base_uri": "https://localhost:8080/"
        },
        "id": "_0y-X8T81b3R",
        "outputId": "1098f993-24c7-4462-c7a8-2d98621ee663"
      },
      "outputs": [
        {
          "output_type": "stream",
          "name": "stdout",
          "text": [
            "[[[[[1, 2]]], [[[3, 4]]], [[[5, 6]]]], [[7, 8]], [[9, 10], [11, 12], [[[13, 14], [15, 16]]], [17, 18]], [[19, 20]], [[21, 22], [23, 24], [25, 26]], [[27, 28]], [29, 30]]\n",
            "[[[[[1, 2]]], [[[3, 4]]], [[[5, 6]]]], [[7, 8]], [[9, 10], [11, 12], [[[13, 14], [15, 16]]], [17, 18]], [[19, 20]], [[21, 22], [23, 24], [25, 26]], [[[[[[[[[[[[27, 28]]]]]]]]]]]], [[[[29, 30]]]], [[31, 32]], [33, 34]]\n"
          ]
        }
      ],
      "source": [
        "def fillMyMatrixIntRecursive(myMatrix, counter=[1]):\n",
        "    if isinstance(myMatrix, list):\n",
        "        if len(myMatrix) == 0:\n",
        "            start = counter[0]\n",
        "            counter[0] += 2\n",
        "            return [start, start + 1]\n",
        "        else:\n",
        "            return [fillMyMatrixIntRecursive(sub, counter) for sub in myMatrix]\n",
        "    return myMatrix\n",
        "\n",
        "myMatrix7 = [\n",
        "    [ [[[]]], [[[]]], [[[]]] ],\n",
        "    [ [] ],\n",
        "    [ [], [], [[[], []]], [] ],\n",
        "    [ [] ],\n",
        "    [ [], [], [] ],\n",
        "    [[]],\n",
        "    []\n",
        "]\n",
        "\n",
        "print(fillMyMatrixIntRecursive(myMatrix7, [1]))\n",
        "\n",
        "myMatrix8 = [\n",
        "    [ [[[]]], [[[]]], [[[]]] ],\n",
        "    [ [] ],\n",
        "    [ [], [], [[[], []]], [] ],\n",
        "    [ [] ],\n",
        "    [ [], [], [] ],\n",
        "    [[[[[[[[[[[[]]]]]]]]]]]],\n",
        "    [[[[]]]], [[]], []\n",
        "]\n",
        "\n",
        "print(fillMyMatrixIntRecursive(myMatrix8, [1]))"
      ]
    },
    {
      "cell_type": "markdown",
      "metadata": {
        "id": "jVPUMAjs1y36"
      },
      "source": [
        "Exercise 3: Problem 2, Odd and Even Lists\n",
        "\n"
      ]
    },
    {
      "cell_type": "code",
      "execution_count": 9,
      "metadata": {
        "colab": {
          "base_uri": "https://localhost:8080/"
        },
        "id": "XV4gnOy305_K",
        "outputId": "9e9b523a-5561-4683-f270-59cd255c08eb"
      },
      "outputs": [
        {
          "output_type": "stream",
          "name": "stdout",
          "text": [
            "[[[[[1, 3]]], [[[3, 5]]], [[[5, 7]]]], [[7, 9]], [[9, 11], [11, 13], [[[13, 15], [15, 17]]], [17, 19]], [[19, 21]], [[21, 23], [23, 25], [25, 27]], [[[[[[[[[[[[27, 29]]]]]]]]]]]], [[[[29, 31]]]], [[31, 33]], [33, 35]]\n"
          ]
        }
      ],
      "source": [
        "def countEmptyLists(structure):\n",
        "    if isinstance(structure, list):\n",
        "        if len(structure) == 0:\n",
        "            return 1\n",
        "        return sum(countEmptyLists(sub) for sub in structure)\n",
        "    return 0\n",
        "\n",
        "\n",
        "def fillList(structure, counter, step):\n",
        "    if isinstance(structure, list):\n",
        "        if len(structure) == 0:\n",
        "            start = counter[0]\n",
        "            counter[0] += 2\n",
        "            return [start, start + step]\n",
        "        else:\n",
        "            return [fillList(sub, counter, step) for sub in structure]\n",
        "    return structure\n",
        "\n",
        "\n",
        "def fillMyMatrixOddEven(myMatrix):\n",
        "    total_empty = countEmptyLists(myMatrix)\n",
        "\n",
        "\n",
        "    start = 1 if total_empty % 2 == 1 else 2\n",
        "\n",
        "    return fillList(myMatrix, [start], 2)\n",
        "\n",
        "myMatrix8 = [\n",
        "    [ [[[]]], [[[]]], [[[]]] ],\n",
        "    [ [] ],\n",
        "    [ [], [], [[[], []]], [] ],\n",
        "    [ [] ],\n",
        "    [ [], [], [] ],\n",
        "    [[[[[[[[[[[[]]]]]]]]]]]],\n",
        "    [[[[]]]], [[]], []\n",
        "]\n",
        "\n",
        "result = fillMyMatrixOddEven(myMatrix8)\n",
        "print(result)"
      ]
    }
  ],
  "metadata": {
    "colab": {
      "provenance": []
    },
    "kernelspec": {
      "display_name": "Python 3",
      "name": "python3"
    },
    "language_info": {
      "name": "python"
    }
  },
  "nbformat": 4,
  "nbformat_minor": 0
}